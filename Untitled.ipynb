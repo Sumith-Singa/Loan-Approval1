{
  "nbformat": 4,
  "nbformat_minor": 0,
  "metadata": {
    "colab": {
      "provenance": [],
      "authorship_tag": "ABX9TyNSINouKFja/6yiCbFFoqAt",
      "include_colab_link": true
    },
    "kernelspec": {
      "name": "python3",
      "display_name": "Python 3"
    },
    "language_info": {
      "name": "python"
    }
  },
  "cells": [
    {
      "cell_type": "markdown",
      "metadata": {
        "id": "view-in-github",
        "colab_type": "text"
      },
      "source": [
        "<a href=\"https://colab.research.google.com/github/Sumith-Singa/Loan-Approval1/blob/main/Untitled.ipynb\" target=\"_parent\"><img src=\"https://colab.research.google.com/assets/colab-badge.svg\" alt=\"Open In Colab\"/></a>"
      ]
    },
    {
      "cell_type": "code",
      "execution_count": 1,
      "metadata": {
        "colab": {
          "base_uri": "https://localhost:8080/"
        },
        "id": "Z6LdFoeMeipN",
        "outputId": "93524a4e-1fd4-4dfb-bf1f-fb41ca85660f"
      },
      "outputs": [
        {
          "output_type": "stream",
          "name": "stdout",
          "text": [
            "Model Accuracy: 0.92\n",
            "\n",
            "Enter Loan Application Details:\n",
            "Credit Score: 650\n",
            "Annual Income: 200000\n",
            "Loan Amount: 350000\n",
            "Loan Term (in months): 12\n",
            "Employment Status (Employed/Self-Employed/Unemployed): Employed\n",
            "\n",
            "Loan Approval Status: Not Approved\n"
          ]
        },
        {
          "output_type": "stream",
          "name": "stderr",
          "text": [
            "/usr/local/lib/python3.11/dist-packages/sklearn/utils/validation.py:2739: UserWarning: X does not have valid feature names, but StandardScaler was fitted with feature names\n",
            "  warnings.warn(\n"
          ]
        }
      ],
      "source": [
        "import pandas as pd\n",
        "import numpy as np\n",
        "from sklearn.model_selection import train_test_split\n",
        "from sklearn.preprocessing import StandardScaler, LabelEncoder\n",
        "from sklearn.linear_model import LogisticRegression\n",
        "from sklearn.metrics import accuracy_score\n",
        "\n",
        "\n",
        "df = pd.read_csv(\"/content/loan_dataset.csv\")\n",
        "\n",
        "\n",
        "le = LabelEncoder()\n",
        "df['Employment_Status'] = le.fit_transform(df['Employment_Status'])\n",
        "\n",
        "\n",
        "X = df.drop(columns=['Approved'])\n",
        "y = df['Approved']\n",
        "\n",
        "\n",
        "X_train, X_test, y_train, y_test = train_test_split(X, y, test_size=0.2, random_state=42)\n",
        "\n",
        "\n",
        "scaler = StandardScaler()\n",
        "X_train_scaled = scaler.fit_transform(X_train)\n",
        "X_test_scaled = scaler.transform(X_test)\n",
        "\n",
        "model = LogisticRegression()\n",
        "model.fit(X_train_scaled, y_train)\n",
        "\n",
        "\n",
        "y_pred = model.predict(X_test_scaled)\n",
        "accuracy = accuracy_score(y_test, y_pred)\n",
        "print(f'Model Accuracy: {accuracy:.2f}')\n",
        "\n",
        "\n",
        "def predict_loan():\n",
        "    print(\"\\nEnter Loan Application Details:\")\n",
        "    credit_score = int(input(\"Credit Score: \"))\n",
        "    income = int(input(\"Annual Income: \"))\n",
        "    loan_amount = int(input(\"Loan Amount: \"))\n",
        "    loan_term = int(input(\"Loan Term (in months): \"))\n",
        "    employment_status = input(\"Employment Status (Employed/Self-Employed/Unemployed): \")\n",
        "\n",
        "    employment_status_encoded = le.transform([employment_status])[0]\n",
        "\n",
        "    user_data = np.array([[credit_score, income, loan_amount, loan_term, employment_status_encoded]])\n",
        "\n",
        "    user_data_scaled = scaler.transform(user_data)\n",
        "\n",
        "    prediction = model.predict(user_data_scaled)[0]\n",
        "    result = \"Approved\" if prediction == 1 else \"Not Approved\"\n",
        "    print(f\"\\nLoan Approval Status: {result}\")\n",
        "\n",
        "predict_loan()"
      ]
    }
  ]
}